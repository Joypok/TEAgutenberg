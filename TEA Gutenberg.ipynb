{
  "cells": [
    {
      "cell_type": "markdown",
      "source": [
        "## Objectif du Projet\n",
        "\n",
        "L'objectif du TP est d'utiliser Scala pour indexer un gros\n",
        "volume de données textuelles (c'est-à-dire construire une structure de données permettant de retrouver rapidement des informations)."
      ],
      "metadata": {}
    },
    {
      "cell_type": "markdown",
      "source": [
        "## Contexte\n",
        "\n",
        "### Gutenberg\n",
        "Le projet Gutenberg est une bibliothèque de versions électroniques libres (parfois appelés e-texts) de livres physiquement existants. Les textes fournis sont essentiellement du domaine public, soit parce qu'ils n'ont \n",
        "jamais été sous copyright, soit parce qu'il est expiré. Il y a également quelques textes sous copyright rendus disponibles par le projet avec la permission de l'auteur. Le projet fut lancé par Michael Hart en 1971 et nommé en hommage à l'imprimeur allemand du XVème siècle Johannes Gutenberg. En novembre 2013, le projet Gutenberg annonce proposer plus de 42 000 livres dans sa collection (ref. wikipedia).\n",
        "\n",
        "Dans ce Projet, on s'intéressera uniquement à certains livres en français écrits par les auteurs les plus prolixes (en tous cas, ceux qui sont le plus référencés dans la base). On souhaiterait classifier les auteurs\n",
        "en fonction de leur style littéraire. En première approximation, on considérera un dictionnaire des mots les plus utilisés dans la base et comment ces mots sont utilisés par les différents auteurs (en espérant\n",
        "que leur vocabulaire soit spécifique)."
      ],
      "metadata": {}
    },
    {
      "cell_type": "markdown",
      "source": [
        "# Travail à réaliser"
      ],
      "metadata": {}
    },
    {
      "cell_type": "markdown",
      "source": [
        "## Ouvrir un fichier"
      ],
      "metadata": {}
    },
    {
      "cell_type": "markdown",
      "source": [
        "L'ensemble des ouvrages en français au format texte brut est disponible dans l'archive présente sur Moodle."
      ],
      "metadata": {}
    },
    {
      "cell_type": "code",
      "source": [],
      "outputs": [],
      "execution_count": null,
      "metadata": {
        "collapsed": true
      }
    },
    {
      "cell_type": "markdown",
      "source": [
        "### Ouvrir le fichier `796-0.txt`"
      ],
      "metadata": {}
    },
    {
      "cell_type": "markdown",
      "source": [
        "Créer un descripteur associé au fichier `796-0.txt`"
      ],
      "metadata": {}
    },
    {
      "cell_type": "code",
      "source": [],
      "outputs": [],
      "execution_count": null,
      "metadata": {
        "collapsed": true
      }
    },
    {
      "cell_type": "markdown",
      "source": [
        "### Afficher les 50 premières lignes du fichier"
      ],
      "metadata": {}
    },
    {
      "cell_type": "code",
      "source": [],
      "outputs": [],
      "execution_count": null,
      "metadata": {
        "collapsed": true
      }
    },
    {
      "cell_type": "markdown",
      "source": [
        "### Compter le nombre de lignes du fichier"
      ],
      "metadata": {}
    },
    {
      "cell_type": "code",
      "source": [],
      "outputs": [],
      "execution_count": null,
      "metadata": {
        "collapsed": true
      }
    },
    {
      "cell_type": "markdown",
      "source": [
        "### Filtrer les lignes qui commencent par la chaîne \"Ceci\" (utiliser une fonction lambda)"
      ],
      "metadata": {}
    },
    {
      "cell_type": "code",
      "source": [],
      "outputs": [],
      "execution_count": null,
      "metadata": {
        "collapsed": true
      }
    },
    {
      "cell_type": "markdown",
      "source": [
        "### Combien y en a-t-il ?"
      ],
      "metadata": {}
    },
    {
      "cell_type": "code",
      "source": [],
      "outputs": [],
      "execution_count": null,
      "metadata": {
        "collapsed": true
      }
    },
    {
      "cell_type": "markdown",
      "source": [
        "### Récuperez les dans une liste"
      ],
      "metadata": {}
    },
    {
      "cell_type": "code",
      "source": [],
      "outputs": [],
      "execution_count": null,
      "metadata": {
        "collapsed": true
      }
    },
    {
      "cell_type": "markdown",
      "source": [
        "## Construction d'un dictionnaire"
      ],
      "metadata": {}
    },
    {
      "cell_type": "markdown",
      "source": [
        "On voudrait construire un dictionnaire des termes possibles à partir du contenu des ouvrages disponibles.\n",
        "\nPour cela on va travailler sur l'ensemble de fichiers."
      ],
      "metadata": {}
    },
    {
      "cell_type": "markdown",
      "source": [
        "### Créer un programme permettant permetttant d'explorer l'ensemble des fichiers du répertoire TextesFrancais"
      ],
      "metadata": {}
    },
    {
      "cell_type": "code",
      "source": [],
      "outputs": [],
      "execution_count": null,
      "metadata": {
        "collapsed": true
      }
    },
    {
      "cell_type": "markdown",
      "source": [
        "### Extraire le premier enregistrement : que contient-il ?"
      ],
      "metadata": {}
    },
    {
      "cell_type": "code",
      "source": [],
      "outputs": [],
      "execution_count": null,
      "metadata": {
        "collapsed": true
      }
    },
    {
      "cell_type": "markdown",
      "source": [
        "### Afficher le nom des fichiers "
      ],
      "metadata": {}
    },
    {
      "cell_type": "code",
      "source": [],
      "outputs": [],
      "execution_count": null,
      "metadata": {
        "collapsed": true
      }
    },
    {
      "cell_type": "markdown",
      "source": [
        "### Construire une structure contenant l'ensemble des textes"
      ],
      "metadata": {
        "collapsed": true
      }
    },
    {
      "cell_type": "code",
      "source": [],
      "outputs": [],
      "execution_count": null,
      "metadata": {
        "collapsed": true
      }
    },
    {
      "cell_type": "markdown",
      "source": [
        "### Construire une structure contenant l'ensemble des mots présents dans tous les fichiers (attention : on veut un enregistrement par mot et non pas par \"mot par fichier\" $\\rightarrow$ `flatMap()`)."
      ],
      "metadata": {}
    },
    {
      "cell_type": "code",
      "source": [],
      "outputs": [],
      "execution_count": null,
      "metadata": {
        "collapsed": true
      }
    },
    {
      "cell_type": "markdown",
      "source": [
        "### Construire une structure permettant de mettre tous les mots en minuscule"
      ],
      "metadata": {}
    },
    {
      "cell_type": "code",
      "source": [],
      "outputs": [],
      "execution_count": null,
      "metadata": {
        "collapsed": true
      }
    },
    {
      "cell_type": "markdown",
      "source": [
        "### Construire un dictionnaire générant des couples (mot,fréquence) - étape map"
      ],
      "metadata": {}
    },
    {
      "cell_type": "code",
      "source": [],
      "outputs": [],
      "execution_count": null,
      "metadata": {
        "collapsed": true
      }
    },
    {
      "cell_type": "markdown",
      "source": [
        "### Parmi les mots les plus courants il y a des mots tellement utilisés qu'ils n'apportent pas d'information sur un document (on parle de stopwords). De fait on va filtrer ces mots (utiliser la liste vue en TP)."
      ],
      "metadata": {}
    },
    {
      "cell_type": "code",
      "source": [],
      "outputs": [],
      "execution_count": null,
      "metadata": {
        "collapsed": true
      }
    },
    {
      "cell_type": "markdown",
      "source": [
        "#### Afficher quelques stopwords"
      ],
      "metadata": {}
    },
    {
      "cell_type": "code",
      "source": [],
      "outputs": [],
      "execution_count": null,
      "metadata": {
        "collapsed": true
      }
    },
    {
      "cell_type": "markdown",
      "source": [
        "#### Filtrer le dictionnaire pour supprimer les stopwords"
      ],
      "metadata": {}
    },
    {
      "cell_type": "code",
      "source": [],
      "outputs": [],
      "execution_count": null,
      "metadata": {
        "collapsed": true
      }
    },
    {
      "cell_type": "markdown",
      "source": [
        "#### Quel est maintenant le top 10 ?"
      ],
      "metadata": {}
    },
    {
      "cell_type": "code",
      "source": [],
      "outputs": [],
      "execution_count": null,
      "metadata": {
        "collapsed": true
      }
    },
    {
      "cell_type": "markdown",
      "source": [
        "#### Si vous voyez encore des \"mots\" non informatifs, filtrez-les "
      ],
      "metadata": {}
    },
    {
      "cell_type": "code",
      "source": [],
      "outputs": [],
      "execution_count": null,
      "metadata": {
        "collapsed": true
      }
    },
    {
      "cell_type": "markdown",
      "source": [
        "## Signature d'un document : indice TF-IDF"
      ],
      "metadata": {}
    },
    {
      "cell_type": "markdown",
      "source": [
        "L'indice TF-IDF (Term Frequency-Inverse Document Frequency) est un indice statistique appliqué aux données textuelles qui permet mesurer l'importance d'un terme dans un document au regard du reste du corpus de texte. Il augmente proportionnellement au nombre d'occurrences du mot dans le document et varie également en fonction de la fréquence du mot dans le corpus."
      ],
      "metadata": {}
    },
    {
      "cell_type": "markdown",
      "source": [
        "### TF - Term Frequency"
      ],
      "metadata": {}
    },
    {
      "cell_type": "markdown",
      "source": [
        "La \"fréquence\" d'un terme est  le nombre d'occurrences de ce terme dans le document considéré (on parle de \"fréquence\" par abus de langage)."
      ],
      "metadata": {}
    },
    {
      "cell_type": "markdown",
      "source": [
        "Dans notre cas, cela revient à faire subire la procédure que nous avons utilisée pour construire notre dictionnaire non pas à l'ensemble du texte correspondant au corpus mais fichier par fichier."
      ],
      "metadata": {}
    },
    {
      "cell_type": "code",
      "source": [],
      "outputs": [],
      "execution_count": null,
      "metadata": {
        "collapsed": true
      }
    },
    {
      "cell_type": "markdown",
      "source": [
        "### Fréquence inverse de document - IDF"
      ],
      "metadata": {}
    },
    {
      "cell_type": "markdown",
      "source": [
        "A l'inverse du TF qui cherche à mesurer l'importance d'un terme dans **un** document, la fréquence inverse de document (inverse document frequency - IDF) mesure l'importance du terme dans **l'ensemble** du corpus. \n",
        "\n",
        "Cette mesure vise à donner un poids plus important aux termes les moins fréquents, considérés comme contenant plus d'informations.\n",
        "\n",
        "Pratiquement, on calcule le logarithme en base 10 de l'inverse de la proportion de documents du corpus qui contiennent le terme, ce qui revient à la formule :\n",
        "$$idf_i=\\log_{10}{\\frac{|D|}{|\\{d_((j)):t_((i))\\in d_((j))\\}|))}}$$\n",
        "\n",
        "avec :\n",
        "- $|D|$ : le nombre total de documents dans le corpus ;\n",
        "- $|\\{d_((j)):t_((i))\\in d_((j))\\}|$ : le nombre de documents où le terme $t_((i))$ apparaît.\n",
        "\n#### Calculer l'IDF pour tous les mots définis dans le dictionnaire (attention l'IDF dépend du document, il doit donc y en avoir autant que le nombre de mots fois le nombre de document)"
      ],
      "metadata": {}
    },
    {
      "cell_type": "code",
      "source": [],
      "outputs": [],
      "execution_count": null,
      "metadata": {
        "collapsed": true
      }
    },
    {
      "cell_type": "markdown",
      "source": [
        "### Calcul du [TF-IDF](https://fr.wikipedia.org/wiki/TF-IDF?oldformat=true)"
      ],
      "metadata": {}
    },
    {
      "cell_type": "markdown",
      "source": [
        "Le calcul final revient simlement pour le terme $i$ dans le document $j$ à calculer le produit $tfidf_{(i,j)}=tf_{(i,j)}\\cdot idf_i$\n",
        "\n#### Calculer ce terme pour l'ensemble des mots du dictionnaire présents dans l'ensemble des documents."
      ],
      "metadata": {}
    },
    {
      "cell_type": "code",
      "source": [],
      "outputs": [],
      "execution_count": null,
      "metadata": {
        "collapsed": true
      }
    },
    {
      "cell_type": "markdown",
      "source": [
        "#### Construire un histogramme des td-idf pour l'ensemble des documents"
      ],
      "metadata": {}
    },
    {
      "cell_type": "code",
      "source": [],
      "outputs": [],
      "execution_count": null,
      "metadata": {
        "collapsed": true
      }
    },
    {
      "cell_type": "markdown",
      "source": [
        "# Calculer le top 10 IDF pour un mot particulier"
      ],
      "metadata": {}
    },
    {
      "cell_type": "code",
      "source": [],
      "outputs": [],
      "execution_count": null,
      "metadata": {
        "collapsed": false,
        "outputHidden": false,
        "inputHidden": false
      }
    }
  ],
  "metadata": {
    "kernelspec": {
      "name": "python3",
      "language": "python",
      "display_name": "Python 3"
    },
    "language_info": {
      "name": "python",
      "version": "3.6.6",
      "mimetype": "text/x-python",
      "codemirror_mode": {
        "name": "ipython",
        "version": 3
      },
      "pygments_lexer": "ipython3",
      "nbconvert_exporter": "python",
      "file_extension": ".py"
    },
    "kernel_info": {
      "name": "python3"
    },
    "nteract": {
      "version": "0.11.9"
    }
  },
  "nbformat": 4,
  "nbformat_minor": 2
}